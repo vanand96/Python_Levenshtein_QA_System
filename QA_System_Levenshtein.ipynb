{
 "cells": [
  {
   "cell_type": "markdown",
   "id": "30548238-e185-4fbf-a956-38115c52da4a",
   "metadata": {},
   "source": [
    "## This is a Q&A system using Levenshtein Python module\n",
    "\n",
    "### Note: Install the below python libraries before running this notebook\n",
    "### pip install pandas\n",
    "### pip install python-Levenshtein"
   ]
  },
  {
   "cell_type": "code",
   "execution_count": 1,
   "id": "8a2d012e-f158-4f7c-b5ea-8cb73e3fd8a6",
   "metadata": {},
   "outputs": [],
   "source": [
    "import pandas as pd\n",
    "from Levenshtein import ratio"
   ]
  },
  {
   "cell_type": "code",
   "execution_count": 2,
   "id": "044021b2-3700-40af-93e1-62aed8580fcc",
   "metadata": {},
   "outputs": [
    {
     "name": "stderr",
     "output_type": "stream",
     "text": [
      "C:\\Users\\avadavelli\\.conda\\envs\\py37\\lib\\site-packages\\IPython\\core\\interactiveshell.py:3444: DtypeWarning: Columns (8) have mixed types.Specify dtype option on import or set low_memory=False.\n",
      "  exec(code_obj, self.user_global_ns, self.user_ns)\n"
     ]
    },
    {
     "data": {
      "text/plain": [
       "Index(['unnamed: 0', 'unnamed: 0.1', 'sale type', 'sold date', 'property type',\n",
       "       'address', 'city', 'state or province', 'zip or postal code', 'price',\n",
       "       'beds', 'baths', 'location', 'square feet', 'lot size', 'year built',\n",
       "       'days on market', '$/square feet', 'hoa/month', 'status',\n",
       "       'next open house start time', 'next open house end time',\n",
       "       'url (see http://www.redfin.com/buy-a-home/comparative-market-analysis for info on pricing)',\n",
       "       'source', 'mls#', 'favorite', 'interested', 'latitude', 'longitude'],\n",
       "      dtype='object')"
      ]
     },
     "execution_count": 2,
     "metadata": {},
     "output_type": "execute_result"
    }
   ],
   "source": [
    "# Read the housing data from the Redfin Dataset\n",
    "redfin_data = pd.read_csv('CountyData\\AllCounties_Data.csv')\n",
    "redfin_data.columns= redfin_data.columns.str.lower()\n",
    "redfin_data.columns"
   ]
  },
  {
   "cell_type": "code",
   "execution_count": 3,
   "id": "094067f7-245b-4854-b790-b84342ca6571",
   "metadata": {},
   "outputs": [
    {
     "data": {
      "text/plain": [
       "unnamed: 0                                                                                      int64\n",
       "unnamed: 0.1                                                                                    int64\n",
       "sale type                                                                                      object\n",
       "sold date                                                                                     float64\n",
       "property type                                                                                  object\n",
       "address                                                                                        object\n",
       "city                                                                                           object\n",
       "state or province                                                                              object\n",
       "zip or postal code                                                                             object\n",
       "price                                                                                         float64\n",
       "beds                                                                                          float64\n",
       "baths                                                                                         float64\n",
       "location                                                                                       object\n",
       "square feet                                                                                   float64\n",
       "lot size                                                                                      float64\n",
       "year built                                                                                    float64\n",
       "days on market                                                                                float64\n",
       "$/square feet                                                                                 float64\n",
       "hoa/month                                                                                     float64\n",
       "status                                                                                         object\n",
       "next open house start time                                                                     object\n",
       "next open house end time                                                                       object\n",
       "url (see http://www.redfin.com/buy-a-home/comparative-market-analysis for info on pricing)     object\n",
       "source                                                                                         object\n",
       "mls#                                                                                           object\n",
       "favorite                                                                                       object\n",
       "interested                                                                                     object\n",
       "latitude                                                                                      float64\n",
       "longitude                                                                                     float64\n",
       "dtype: object"
      ]
     },
     "execution_count": 3,
     "metadata": {},
     "output_type": "execute_result"
    }
   ],
   "source": [
    "# Check the data types of all the columns\n",
    "redfin_data.dtypes"
   ]
  },
  {
   "cell_type": "code",
   "execution_count": 4,
   "id": "0fe36471-88c0-4428-a1c4-a4be25d89038",
   "metadata": {},
   "outputs": [],
   "source": [
    "# Fix the data types for the redfin data\n",
    "redfin_data['zip or postal code'] = redfin_data['zip or postal code'].astype(str)\n",
    "redfin_data['zip or postal code'] = redfin_data['zip or postal code'].str.replace(\".0\", \"\", regex=False)\n",
    "redfin_data['beds'] = redfin_data['beds'].fillna(0)\n",
    "redfin_data['beds'] = redfin_data['beds'].astype(int)\n",
    "redfin_data['baths'] = redfin_data['baths'].astype(str)\n",
    "redfin_data['baths'] = redfin_data['baths'].str.replace(\".0\", \"\", regex=False)\n",
    "redfin_data['price'] = redfin_data['price'].fillna(0)\n",
    "redfin_data['price'] = redfin_data['price'].astype(int)\n",
    "redfin_data['square feet'] = redfin_data['square feet'].fillna(0)\n",
    "redfin_data['square feet'] = redfin_data['square feet'].astype(int)\n",
    "redfin_data['lot size'] = redfin_data['lot size'].fillna(0)\n",
    "redfin_data['lot size'] = redfin_data['lot size'].astype(int)\n",
    "redfin_data['year built'] = redfin_data['year built'].fillna(0)\n",
    "redfin_data['year built'] = redfin_data['year built'].astype(int)\n",
    "redfin_data['days on market'] = redfin_data['days on market'].fillna(0)\n",
    "redfin_data['days on market'] = redfin_data['days on market'].astype(int)\n",
    "redfin_data['$/square feet'] = redfin_data['$/square feet'].map(lambda x: '{0:.2f}'.format(x)) \n",
    "redfin_data['hoa/month'] = redfin_data['hoa/month'].map(lambda x: '{0:.2f}'.format(x))"
   ]
  },
  {
   "cell_type": "code",
   "execution_count": 5,
   "id": "cdfdf2d1-927f-4326-ab3e-45f91a52ab70",
   "metadata": {},
   "outputs": [
    {
     "data": {
      "text/html": [
       "<div>\n",
       "<style scoped>\n",
       "    .dataframe tbody tr th:only-of-type {\n",
       "        vertical-align: middle;\n",
       "    }\n",
       "\n",
       "    .dataframe tbody tr th {\n",
       "        vertical-align: top;\n",
       "    }\n",
       "\n",
       "    .dataframe thead th {\n",
       "        text-align: right;\n",
       "    }\n",
       "</style>\n",
       "<table border=\"1\" class=\"dataframe\">\n",
       "  <thead>\n",
       "    <tr style=\"text-align: right;\">\n",
       "      <th></th>\n",
       "      <th>unnamed: 0</th>\n",
       "      <th>unnamed: 0.1</th>\n",
       "      <th>sale type</th>\n",
       "      <th>sold date</th>\n",
       "      <th>property type</th>\n",
       "      <th>address</th>\n",
       "      <th>city</th>\n",
       "      <th>state or province</th>\n",
       "      <th>zip or postal code</th>\n",
       "      <th>price</th>\n",
       "      <th>...</th>\n",
       "      <th>status</th>\n",
       "      <th>next open house start time</th>\n",
       "      <th>next open house end time</th>\n",
       "      <th>url (see http://www.redfin.com/buy-a-home/comparative-market-analysis for info on pricing)</th>\n",
       "      <th>source</th>\n",
       "      <th>mls#</th>\n",
       "      <th>favorite</th>\n",
       "      <th>interested</th>\n",
       "      <th>latitude</th>\n",
       "      <th>longitude</th>\n",
       "    </tr>\n",
       "  </thead>\n",
       "  <tbody>\n",
       "    <tr>\n",
       "      <th>0</th>\n",
       "      <td>0</td>\n",
       "      <td>0</td>\n",
       "      <td>MLS Listing</td>\n",
       "      <td>NaN</td>\n",
       "      <td>Single Family Residential</td>\n",
       "      <td>25205 Oak St</td>\n",
       "      <td>Lomita</td>\n",
       "      <td>CA</td>\n",
       "      <td>90717</td>\n",
       "      <td>999000</td>\n",
       "      <td>...</td>\n",
       "      <td>Pre On-Market</td>\n",
       "      <td>November-6-2021 12:00 AM</td>\n",
       "      <td>November-6-2021 11:59 PM</td>\n",
       "      <td>http://www.redfin.com/CA/Lomita/25205-Oak-St-9...</td>\n",
       "      <td>CRMLS</td>\n",
       "      <td>OC21238572</td>\n",
       "      <td>N</td>\n",
       "      <td>Y</td>\n",
       "      <td>33.795732</td>\n",
       "      <td>-118.317474</td>\n",
       "    </tr>\n",
       "    <tr>\n",
       "      <th>1</th>\n",
       "      <td>1</td>\n",
       "      <td>1</td>\n",
       "      <td>MLS Listing</td>\n",
       "      <td>NaN</td>\n",
       "      <td>Single Family Residential</td>\n",
       "      <td>203 E Camino Real</td>\n",
       "      <td>Monrovia</td>\n",
       "      <td>CA</td>\n",
       "      <td>91016</td>\n",
       "      <td>899000</td>\n",
       "      <td>...</td>\n",
       "      <td>Active</td>\n",
       "      <td>November-6-2021 01:00 PM</td>\n",
       "      <td>November-6-2021 04:00 PM</td>\n",
       "      <td>http://www.redfin.com/CA/Monrovia/203-E-Camino...</td>\n",
       "      <td>CRMLS</td>\n",
       "      <td>PF21238553</td>\n",
       "      <td>N</td>\n",
       "      <td>Y</td>\n",
       "      <td>34.122030</td>\n",
       "      <td>-118.001185</td>\n",
       "    </tr>\n",
       "  </tbody>\n",
       "</table>\n",
       "<p>2 rows × 29 columns</p>\n",
       "</div>"
      ],
      "text/plain": [
       "   unnamed: 0  unnamed: 0.1    sale type  sold date  \\\n",
       "0           0             0  MLS Listing        NaN   \n",
       "1           1             1  MLS Listing        NaN   \n",
       "\n",
       "               property type            address      city state or province  \\\n",
       "0  Single Family Residential       25205 Oak St    Lomita                CA   \n",
       "1  Single Family Residential  203 E Camino Real  Monrovia                CA   \n",
       "\n",
       "  zip or postal code   price  ...         status next open house start time  \\\n",
       "0              90717  999000  ...  Pre On-Market   November-6-2021 12:00 AM   \n",
       "1              91016  899000  ...         Active   November-6-2021 01:00 PM   \n",
       "\n",
       "   next open house end time  \\\n",
       "0  November-6-2021 11:59 PM   \n",
       "1  November-6-2021 04:00 PM   \n",
       "\n",
       "   url (see http://www.redfin.com/buy-a-home/comparative-market-analysis for info on pricing)  \\\n",
       "0  http://www.redfin.com/CA/Lomita/25205-Oak-St-9...                                            \n",
       "1  http://www.redfin.com/CA/Monrovia/203-E-Camino...                                            \n",
       "\n",
       "   source        mls#  favorite interested   latitude   longitude  \n",
       "0   CRMLS  OC21238572         N          Y  33.795732 -118.317474  \n",
       "1   CRMLS  PF21238553         N          Y  34.122030 -118.001185  \n",
       "\n",
       "[2 rows x 29 columns]"
      ]
     },
     "execution_count": 5,
     "metadata": {},
     "output_type": "execute_result"
    }
   ],
   "source": [
    "# Display the sample data\n",
    "redfin_data.head(2)"
   ]
  },
  {
   "cell_type": "code",
   "execution_count": 6,
   "id": "ce4ad50f",
   "metadata": {},
   "outputs": [],
   "source": [
    "# Read all the predefined questios for housing data \n",
    "questions_data = pd.read_csv('AllQuestions.csv')"
   ]
  },
  {
   "cell_type": "code",
   "execution_count": 7,
   "id": "21b48ea9-bf48-498a-991b-10fcdc20a959",
   "metadata": {},
   "outputs": [],
   "source": [
    "# Method to check a question's levenshtein ratio with other questions \n",
    "def getResults(question):\n",
    "    levenshteinRatio =[]\n",
    "    for idx, row in questions_data.iterrows():\n",
    "        score = ratio(row[\"Question\"], question)\n",
    "        levenshteinRatio.append(score)\n",
    "    max_score = max(levenshteinRatio)\n",
    "    max_index = levenshteinRatio.index(max_score)\n",
    "    print('Levenshtein Ratio: ' + str(max_score))\n",
    "#     print(max_index)\n",
    "    return max_index"
   ]
  },
  {
   "cell_type": "code",
   "execution_count": 8,
   "id": "7d2f88ff",
   "metadata": {},
   "outputs": [],
   "source": [
    "# Select a random house for testing\n",
    "house_info = redfin_data.loc[2]"
   ]
  },
  {
   "cell_type": "code",
   "execution_count": 9,
   "id": "adbcb34e",
   "metadata": {},
   "outputs": [],
   "source": [
    "# Define a sample question users might ask\n",
    "test_data = 'What is the multi listing number of this house ?'"
   ]
  },
  {
   "cell_type": "code",
   "execution_count": 10,
   "id": "c88f2dde-e22b-44bd-bc0f-3fca0e7af2f4",
   "metadata": {},
   "outputs": [
    {
     "name": "stdout",
     "output_type": "stream",
     "text": [
      "Levenshtein Ratio: 0.8837209302325582\n"
     ]
    }
   ],
   "source": [
    "# Get the details on what the question is about  \n",
    "index = getResults(test_data)\n",
    "column_name = questions_data.iloc[index].Answer"
   ]
  },
  {
   "cell_type": "code",
   "execution_count": 11,
   "id": "741956d7-410c-450e-885d-8b6827f9fdd1",
   "metadata": {},
   "outputs": [
    {
     "name": "stdout",
     "output_type": "stream",
     "text": [
      "Asked Question: What is the multi listing number of this house ?\n",
      "Related Question: What is the mls number of this house ?\n",
      "Related Data requested: mls#\n",
      "Requested Details: 21-100533\n"
     ]
    }
   ],
   "source": [
    "# Display the information for the user\n",
    "print('Asked Question: '+test_data)\n",
    "print('Related Question: '+questions_data.iloc[index].Question)\n",
    "print('Related Data requested: '+questions_data.iloc[index].Answer)\n",
    "print('Requested Details: ' + str(house_info[column_name]))"
   ]
  }
 ],
 "metadata": {
  "kernelspec": {
   "display_name": "Python 3 (ipykernel)",
   "language": "python",
   "name": "python3"
  },
  "language_info": {
   "codemirror_mode": {
    "name": "ipython",
    "version": 3
   },
   "file_extension": ".py",
   "mimetype": "text/x-python",
   "name": "python",
   "nbconvert_exporter": "python",
   "pygments_lexer": "ipython3",
   "version": "3.7.11"
  }
 },
 "nbformat": 4,
 "nbformat_minor": 5
}
